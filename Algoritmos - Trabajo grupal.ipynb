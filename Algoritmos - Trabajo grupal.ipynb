{
 "cells": [
  {
   "cell_type": "code",
   "execution_count": 1,
   "id": "863a9f33-c045-492f-bf06-4c165b1b369a",
   "metadata": {},
   "outputs": [],
   "source": [
    "import pennylane as qml\n",
    "import numpy as np\n",
    "from scipy.optimize import minimize"
   ]
  },
  {
   "cell_type": "code",
   "execution_count": 2,
   "id": "44e8b8f7-007f-41b5-86a8-33a794872f0d",
   "metadata": {},
   "outputs": [],
   "source": [
    "def codificar_amistades(amistades):\n",
    "    # Transforma el array de nombres de personas a array de índices\n",
    "    return np.unique(amistades, return_inverse=True)"
   ]
  },
  {
   "cell_type": "code",
   "execution_count": 3,
   "id": "eaee880b-4e65-436b-9e14-f9cfb584bd6c",
   "metadata": {},
   "outputs": [],
   "source": [
    "def construir_circuito(personas_idxs, amistades_idxs):\n",
    "    dev = qml.device(\"default.qubit\", wires=personas_idxs)\n",
    "\n",
    "    # Codifica Hamiltoniano de https://arxiv.org/pdf/1904.00051 (pág 2) convertido a Ising.\n",
    "    # Se podría usar https://pennylane.ai/qml/demos/tutorial_qaoa_intro para simplificar quizás?\n",
    "    def U_C(gamma):\n",
    "\n",
    "        # Términos lineales\n",
    "        _, cantidad_amistades = np.unique(amistades_idxs.flatten(), return_counts=True)\n",
    "        for persona_idx in personas_idxs:\n",
    "            cantidad = cantidad_amistades[persona_idx]\n",
    "            qml.RZ(-2 * (0.25 * cantidad - 1) * gamma, wires = persona_idx)\n",
    "\n",
    "        # Términos cuadráticos\n",
    "        for (persona_idx_1, persona_idx_2) in amistades_idxs:\n",
    "            qml.CNOT(wires = [persona_idx_1, persona_idx_2])\n",
    "            qml.RZ(-2 * (0.25) * gamma, wires = persona_idx_2)\n",
    "            qml.CNOT(wires = [persona_idx_1, persona_idx_2])\n",
    "\n",
    "    def U_B(beta):\n",
    "        for persona_idx in personas_idxs:\n",
    "            qml.RX(-2 * beta, wires = persona_idx)\n",
    "\n",
    "    @qml.qnode(dev)\n",
    "    def circuit(gamma, beta):\n",
    "        for persona_idx in personas_idxs:\n",
    "            qml.Hadamard(wires = persona_idx)\n",
    "\n",
    "        for _ in range(3):\n",
    "            U_C(gamma)\n",
    "            U_B(beta)\n",
    "        \n",
    "        return qml.probs(wires = personas_idxs)\n",
    "\n",
    "    return circuit"
   ]
  },
  {
   "cell_type": "code",
   "execution_count": 4,
   "id": "a0c439a4-1500-46b6-b2a1-3b134022577b",
   "metadata": {},
   "outputs": [],
   "source": [
    "def optimizar_parametros(circuito):\n",
    "    parametros_iniciales = [0.15, 0.15]\n",
    "    # La optimización es de minimización, entonces se arma una función que toma\n",
    "    # el negativo de la probabilidad de obtener el resultado de máxima energía.\n",
    "    optimizable = lambda params : -np.max(circuito(params[0], params[1]))\n",
    "    parametros_optimizados = minimize(optimizable, parametros_iniciales).x\n",
    "    return parametros_optimizados[0], parametros_optimizados[1]"
   ]
  },
  {
   "cell_type": "code",
   "execution_count": 5,
   "id": "03d28106-4916-499e-88ee-30ac70eb47be",
   "metadata": {},
   "outputs": [],
   "source": [
    "def a_quien_contratar(amistades):\n",
    "    # Codificar amistades\n",
    "    personas, amistades_idxs = codificar_amistades(amistades)\n",
    "    personas_idxs = range(personas.size)\n",
    "\n",
    "    # Generar circuito y parámetros\n",
    "    circuito = construir_circuito(personas_idxs, amistades_idxs)\n",
    "    gamma, beta = optimizar_parametros(circuito)\n",
    "\n",
    "    # Obtener resultado\n",
    "    probs = circuito(gamma, beta)\n",
    "    resultado = np.argmax(probs)\n",
    "\n",
    "    # Decodificar resultado y devolver personas elegidas\n",
    "    personas_elegidas = []\n",
    "    for idx, valor_binario in enumerate(bin(resultado)[2:]):\n",
    "        if valor_binario == \"0\":\n",
    "            personas_elegidas.append(str(personas[idx]))\n",
    "    return personas_elegidas"
   ]
  },
  {
   "cell_type": "markdown",
   "id": "344431ab-6ad0-4efd-a5a5-6adcabe04202",
   "metadata": {},
   "source": [
    "## Prueba"
   ]
  },
  {
   "cell_type": "code",
   "execution_count": 6,
   "id": "596bbbb5-ed43-461c-bcd6-0e2554e1e9a3",
   "metadata": {},
   "outputs": [
    {
     "data": {
      "text/plain": [
       "[]"
      ]
     },
     "execution_count": 6,
     "metadata": {},
     "output_type": "execute_result"
    }
   ],
   "source": [
    "amistades = [[\"Mario\", \"Sarah\"],\n",
    "            [\"Mario\", \"Raul\"],\n",
    "            [\"Mario\", \"Ana\"],\n",
    "            [\"Enrique\", \"Sarah\"],\n",
    "            [\"Enrique\", \"Raul\"],\n",
    "            [\"Saul\", \"Ana\"]]\n",
    "\n",
    "a_quien_contratar(amistades)"
   ]
  },
  {
   "cell_type": "code",
   "execution_count": 7,
   "id": "b9798988-35de-4d0a-8cb9-e05cb020efca",
   "metadata": {},
   "outputs": [
    {
     "data": {
      "text/plain": [
       "[]"
      ]
     },
     "execution_count": 7,
     "metadata": {},
     "output_type": "execute_result"
    }
   ],
   "source": [
    "amistades = [[\"Mario\", \"Sarah\"]]\n",
    "\n",
    "a_quien_contratar(amistades)"
   ]
  }
 ],
 "metadata": {
  "kernelspec": {
   "display_name": "ml",
   "language": "python",
   "name": "ml"
  },
  "language_info": {
   "codemirror_mode": {
    "name": "ipython",
    "version": 3
   },
   "file_extension": ".py",
   "mimetype": "text/x-python",
   "name": "python",
   "nbconvert_exporter": "python",
   "pygments_lexer": "ipython3",
   "version": "3.12.9"
  }
 },
 "nbformat": 4,
 "nbformat_minor": 5
}
