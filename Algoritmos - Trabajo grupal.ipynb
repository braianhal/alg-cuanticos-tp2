{
 "cells": [
  {
   "cell_type": "code",
   "execution_count": 1,
   "id": "863a9f33-c045-492f-bf06-4c165b1b369a",
   "metadata": {},
   "outputs": [],
   "source": [
    "import pennylane as qml\n",
    "from pennylane import numpy as np\n",
    "import networkx as nx\n",
    "import random\n",
    "from matplotlib import pyplot as plt\n",
    "from scipy.optimize import minimize\n",
    "from pennylane import qaoa"
   ]
  },
  {
   "cell_type": "code",
   "execution_count": 2,
   "id": "44e8b8f7-007f-41b5-86a8-33a794872f0d",
   "metadata": {},
   "outputs": [],
   "source": [
    "def codificar_amistades(amistades):\n",
    "    # Transforma el array de nombres de personas a array de índices\n",
    "    return np.unique(amistades, return_inverse=True)"
   ]
  },
  {
   "cell_type": "code",
   "execution_count": 3,
   "id": "eaee880b-4e65-436b-9e14-f9cfb584bd6c",
   "metadata": {},
   "outputs": [],
   "source": [
    "def construir_circuito(personas_idxs, amistades_idxs):\n",
    "    dev = qml.device(\"default.qubit\", wires=personas_idxs)\n",
    "\n",
    "    # Construir capas C y B.\n",
    "    grafo_amistades = nx.Graph()\n",
    "    grafo_amistades.add_edges_from(amistades_idxs)\n",
    "\n",
    "    C_h, B_h = qaoa.min_vertex_cover(grafo_amistades, constrained=False)\n",
    "    def capa_qaoa(gamma, beta):\n",
    "        qaoa.cost_layer(gamma, C_h)\n",
    "        qaoa.mixer_layer(beta, B_h)\n",
    "\n",
    "    @qml.qnode(dev)\n",
    "    def circuit(params):\n",
    "        for persona_idx in personas_idxs:\n",
    "            qml.Hadamard(wires=persona_idx)\n",
    "        qml.layer(capa_qaoa, 3, params[0], params[1])\n",
    "\n",
    "        return qml.probs(wires = personas_idxs)\n",
    "\n",
    "    @qml.qnode(dev)\n",
    "    def cost_function(params):\n",
    "        circuit(params)\n",
    "        return qml.expval(C_h)\n",
    "\n",
    "    return circuit, cost_function"
   ]
  },
  {
   "cell_type": "code",
   "execution_count": 43,
   "id": "a0c439a4-1500-46b6-b2a1-3b134022577b",
   "metadata": {},
   "outputs": [],
   "source": [
    "def optimizar_parametros(circuito, cantidad_personas):\n",
    "    params = [[1.0/cantidad_personas]*3,[1.0/cantidad_personas]*3]\n",
    "    optimizer = qml.GradientDescentOptimizer()\n",
    "    steps = 50\n",
    "    params = np.array(params, requires_grad=True)\n",
    "    for i in range(steps):\n",
    "        params = optimizer.step(circuito, params)\n",
    "    return params"
   ]
  },
  {
   "cell_type": "code",
   "execution_count": 44,
   "id": "044879ce-e70a-4c93-85fa-492b97d480ec",
   "metadata": {},
   "outputs": [],
   "source": [
    "def a_binario(resultado, digitos):\n",
    "    binario = bin(resultado)[2:]\n",
    "    return binario.zfill(digitos)"
   ]
  },
  {
   "cell_type": "code",
   "execution_count": 45,
   "id": "03d28106-4916-499e-88ee-30ac70eb47be",
   "metadata": {},
   "outputs": [],
   "source": [
    "def a_quien_contratar(amistades):\n",
    "    # Codificar amistades\n",
    "    personas, amistades_idxs = codificar_amistades(amistades)\n",
    "    personas_idxs = range(personas.size)\n",
    "\n",
    "    # Generar circuito y parámetros\n",
    "    circuito, funcion_costo = construir_circuito(personas_idxs, amistades_idxs)\n",
    "    parametros = optimizar_parametros(funcion_costo, personas.size)\n",
    "\n",
    "    # Obtener resultado\n",
    "    probs = circuito(parametros)\n",
    "    resultado = np.argmax(probs)\n",
    "    plt.bar(range(2 ** len(personas_idxs)), probs)\n",
    "\n",
    "    # Decodificar resultado y devolver personas elegidas\n",
    "    personas_elegidas = []\n",
    "    for idx, valor_binario in enumerate(a_binario(resultado, len(personas_idxs))):\n",
    "        if valor_binario == \"0\":\n",
    "            personas_elegidas.append(str(personas[idx]))\n",
    "    return personas_elegidas"
   ]
  },
  {
   "cell_type": "markdown",
   "id": "344431ab-6ad0-4efd-a5a5-6adcabe04202",
   "metadata": {},
   "source": [
    "## Prueba"
   ]
  },
  {
   "cell_type": "code",
   "execution_count": 46,
   "id": "596bbbb5-ed43-461c-bcd6-0e2554e1e9a3",
   "metadata": {},
   "outputs": [
    {
     "data": {
      "text/plain": [
       "['Ana', 'Raul', 'Sarah']"
      ]
     },
     "execution_count": 46,
     "metadata": {},
     "output_type": "execute_result"
    },
    {
     "data": {
      "image/png": "[encoded data removed]",
      "text/plain": [
       "<Figure size 640x480 with 1 Axes>"
      ]
     },
     "metadata": {},
     "output_type": "display_data"
    }
   ],
   "source": [
    "amistades = [[\"Mario\", \"Sarah\"],\n",
    "            [\"Mario\", \"Raul\"],\n",
    "            [\"Mario\", \"Ana\"],\n",
    "            [\"Enrique\", \"Sarah\"],\n",
    "            [\"Enrique\", \"Raul\"],\n",
    "            [\"Saul\", \"Ana\"]]\n",
    "\n",
    "a_quien_contratar(amistades)"
   ]
  },
  {
   "cell_type": "code",
   "execution_count": 48,
   "id": "ea684dbf-a91e-446f-9ee6-f436084b6228",
   "metadata": {},
   "outputs": [
    {
     "data": {
      "text/plain": [
       "['Mario']"
      ]
     },
     "execution_count": 48,
     "metadata": {},
     "output_type": "execute_result"
    },
    {
     "data": {
      "image/png": "[encoded data removed]",
      "text/plain": [
       "<Figure size 640x480 with 1 Axes>"
      ]
     },
     "metadata": {},
     "output_type": "display_data"
    }
   ],
   "source": [
    "amistades = [[\"Mario\", \"Sarah\"],\n",
    "            [\"Mario\", \"Ana\"]]\n",
    "\n",
    "a_quien_contratar(amistades)"
   ]
  },
  {
   "cell_type": "code",
   "execution_count": null,
   "id": "c10f8d6a-072f-4107-82e0-553ca1fd74bf",
   "metadata": {},
   "outputs": [],
   "source": []
  }
 ],
 "metadata": {
  "kernelspec": {
   "display_name": "ml",
   "language": "python",
   "name": "ml"
  },
  "language_info": {
   "codemirror_mode": {
    "name": "ipython",
    "version": 3
   },
   "file_extension": ".py",
   "mimetype": "text/x-python",
   "name": "python",
   "nbconvert_exporter": "python",
   "pygments_lexer": "ipython3",
   "version": "3.12.9"
  }
 },
 "nbformat": 4,
 "nbformat_minor": 5
}
